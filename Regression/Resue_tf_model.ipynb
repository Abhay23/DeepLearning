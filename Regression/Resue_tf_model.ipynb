{
  "cells": [
    {
      "cell_type": "code",
      "execution_count": null,
      "id": "91feaffc",
      "metadata": {
        "id": "91feaffc"
      },
      "outputs": [],
      "source": [
        "import tensorflow as tf\n",
        "import joblib\n",
        "import pandas as pd\n"
      ]
    },
    {
      "cell_type": "markdown",
      "id": "0d90f4b2",
      "metadata": {
        "id": "0d90f4b2"
      },
      "source": [
        "# Load saved test data files"
      ]
    },
    {
      "cell_type": "code",
      "execution_count": null,
      "id": "f47e20c6",
      "metadata": {
        "id": "f47e20c6"
      },
      "outputs": [],
      "source": [
        "preprocessor = joblib.load(\"preprocessor.pkl\")\n",
        "Test_data_enc = pd.read_csv(\"Test_data_enc.csv\")\n",
        "X_test_pre = preprocessor.transform(Test_data_enc)"
      ]
    },
    {
      "cell_type": "markdown",
      "id": "ec4459b0",
      "metadata": {
        "id": "ec4459b0"
      },
      "source": [
        "# Load the tf model"
      ]
    },
    {
      "cell_type": "code",
      "execution_count": null,
      "id": "f5f5dbf6",
      "metadata": {
        "id": "f5f5dbf6"
      },
      "outputs": [],
      "source": [
        "model = tf.keras.models.load_model(\"best_model_complete_tf.keras\")"
      ]
    },
    {
      "cell_type": "markdown",
      "id": "5f20d481",
      "metadata": {
        "id": "5f20d481"
      },
      "source": [
        "# Make predictions"
      ]
    },
    {
      "cell_type": "code",
      "execution_count": null,
      "id": "0bc426b2",
      "metadata": {
        "id": "0bc426b2",
        "outputId": "6754eb7d-65b6-434d-8799-759fe7efffa0"
      },
      "outputs": [
        {
          "name": "stdout",
          "output_type": "stream",
          "text": [
            "\u001b[1m32/32\u001b[0m \u001b[32m━━━━━━━━━━━━━━━━━━━━\u001b[0m\u001b[37m\u001b[0m \u001b[1m0s\u001b[0m 8ms/step\n",
            "     Predicted Price\n",
            "0               8000\n",
            "1              27061\n",
            "2              15133\n",
            "3              19914\n",
            "4              29611\n",
            "..               ...\n",
            "995            44180\n",
            "996            40095\n",
            "997            33091\n",
            "998            37583\n",
            "999            56203\n",
            "\n",
            "[1000 rows x 1 columns]\n"
          ]
        }
      ],
      "source": [
        "y_pred_test = model.predict(X_test_pre)\n",
        "y_pred_test = y_pred_test.flatten()\n",
        "Prediction=pd.Series(y_pred_test.tolist())\n",
        "Prediction.name = 'Predicted Price'\n",
        "Prediction=pd.DataFrame(Prediction)\n",
        "Prediction['Predicted Price'] = Prediction['Predicted Price'].astype(int)\n",
        "print(Prediction)"
      ]
    }
  ],
  "metadata": {
    "kernelspec": {
      "display_name": "Python 3",
      "language": "python",
      "name": "python3"
    },
    "language_info": {
      "codemirror_mode": {
        "name": "ipython",
        "version": 3
      },
      "file_extension": ".py",
      "mimetype": "text/x-python",
      "name": "python",
      "nbconvert_exporter": "python",
      "pygments_lexer": "ipython3",
      "version": "3.9.5"
    },
    "colab": {
      "provenance": []
    }
  },
  "nbformat": 4,
  "nbformat_minor": 5
}