{
  "cells": [
    {
      "cell_type": "code",
      "execution_count": null,
      "id": "91feaffc",
      "metadata": {
        "id": "91feaffc"
      },
      "outputs": [],
      "source": [
        "import torch\n",
        "import numpy as np\n",
        "import torch.nn as nn\n",
        "import joblib\n",
        "import pandas as pd\n",
        "import random\n",
        "import os\n"
      ]
    },
    {
      "cell_type": "markdown",
      "id": "9d1655a2",
      "metadata": {
        "id": "9d1655a2"
      },
      "source": [
        "# Create neural network layers"
      ]
    },
    {
      "cell_type": "code",
      "execution_count": null,
      "id": "d86b9795",
      "metadata": {
        "id": "d86b9795"
      },
      "outputs": [],
      "source": [
        "class Regressor(nn.Module):\n",
        "    def __init__(self, input_dim, units,num_layers):\n",
        "        super().__init__()\n",
        "        layers=[]\n",
        "        in_dim=input_dim\n",
        "\n",
        "\n",
        "        for i in range(num_layers):\n",
        "            out_dim=units*2**(num_layers-(i+1))\n",
        "            layers.append(nn.Linear(in_dim,out_dim))\n",
        "            layers.append(nn.BatchNorm1d(out_dim))\n",
        "            layers.append(nn.ReLU())\n",
        "            layers.append(nn.Dropout(0.3))\n",
        "            in_dim=out_dim\n",
        "        layers.append(nn.Linear(in_dim,1))\n",
        "        self.net = nn.Sequential(*layers)\n",
        "\n",
        "    def forward(self,x):\n",
        "        return self.net(x)"
      ]
    },
    {
      "cell_type": "markdown",
      "id": "0d90f4b2",
      "metadata": {
        "id": "0d90f4b2"
      },
      "source": [
        "# Load saved pytorch model and saved test data files"
      ]
    },
    {
      "cell_type": "code",
      "execution_count": null,
      "id": "f47e20c6",
      "metadata": {
        "id": "f47e20c6"
      },
      "outputs": [],
      "source": [
        "checkpoint = torch.load('best_model_complete_pt.pth')\n",
        "preprocessor = joblib.load(\"preprocessor.pkl\")\n",
        "Test_data_enc = pd.read_csv(\"Test_data_enc.csv\")\n",
        "X_test_pre = preprocessor.transform(Test_data_enc)"
      ]
    },
    {
      "cell_type": "markdown",
      "id": "ec4459b0",
      "metadata": {
        "id": "ec4459b0"
      },
      "source": [
        "# Extract neural network weights, neural network  layers parameters and input tensor data"
      ]
    },
    {
      "cell_type": "code",
      "execution_count": null,
      "id": "f5f5dbf6",
      "metadata": {
        "id": "f5f5dbf6"
      },
      "outputs": [],
      "source": [
        "X_test_tensor=torch.tensor(X_test_pre.todense(), dtype=torch.float32)\n",
        "input_dim = checkpoint['model_params']['input_dim']\n",
        "units = checkpoint['model_params']['units']\n",
        "num_layers = checkpoint['model_params']['num_layers']"
      ]
    },
    {
      "cell_type": "markdown",
      "id": "5f20d481",
      "metadata": {
        "id": "5f20d481"
      },
      "source": [
        "# Make predictions"
      ]
    },
    {
      "cell_type": "code",
      "execution_count": null,
      "id": "0bc426b2",
      "metadata": {
        "id": "0bc426b2",
        "outputId": "95af0a81-5e54-42ed-affa-c1f755543e1e"
      },
      "outputs": [
        {
          "name": "stdout",
          "output_type": "stream",
          "text": [
            "     Predicted Price\n",
            "0              15664\n",
            "1              28875\n",
            "2              10522\n",
            "3              18817\n",
            "4              30857\n",
            "..               ...\n",
            "995            34434\n",
            "996            48921\n",
            "997            33018\n",
            "998            36891\n",
            "999            57759\n",
            "\n",
            "[1000 rows x 1 columns]\n"
          ]
        }
      ],
      "source": [
        "model = Regressor(input_dim, units, num_layers)\n",
        "model.load_state_dict(checkpoint['model_state_dict'])\n",
        "\n",
        "model.eval()\n",
        "with torch.no_grad():\n",
        "    y_pred_test = model(X_test_tensor)\n",
        "\n",
        "y_pred_test = y_pred_test.flatten()\n",
        "Prediction=pd.Series(y_pred_test.tolist())\n",
        "Prediction.name = 'Predicted Price'\n",
        "Prediction=pd.DataFrame(Prediction)\n",
        "Prediction['Predicted Price'] = Prediction['Predicted Price'].astype(int)\n",
        "print(Prediction)\n",
        ""
      ]
    }
  ],
  "metadata": {
    "kernelspec": {
      "display_name": "Python 3",
      "language": "python",
      "name": "python3"
    },
    "language_info": {
      "codemirror_mode": {
        "name": "ipython",
        "version": 3
      },
      "file_extension": ".py",
      "mimetype": "text/x-python",
      "name": "python",
      "nbconvert_exporter": "python",
      "pygments_lexer": "ipython3",
      "version": "3.9.5"
    },
    "colab": {
      "provenance": []
    }
  },
  "nbformat": 4,
  "nbformat_minor": 5
}